{
 "cells": [
  {
   "cell_type": "markdown",
   "metadata": {},
   "source": [
    "#  Array Operations\n",
    "\n",
    "After you've created your arrays, you can process them using NumPy's vast number of functions. I don't have time to present all of them or even the majority, so this discussion focuses on four types of functions:\n",
    "\n",
    "- Arithmetic\n",
    "- Statistics\n",
    "- Generating random values\n",
    "- Splitting and stacking\n",
    "\n",
    "This discussion presents a small minority of the different types of NumPy operations. For a more complete discussion of NumPy's capabilities, look at the official documentation at https://docs.scipy.org/doc/numpy/reference.\n",
    "\n",
    "\n",
    "## Arithmetic\n",
    "\n",
    "NumPy makes it easy to perform simple math, and you can use the + and - operators to add and subtract arrays *if they have the same shape*. That is, you can only add a one-dimensional array with five elements to another one-dimensional array with five elements. You can only subtract a 3x4 matrix from another 3x4 matrix.\n",
    "\n",
    "Multiplication is more complicated. The `np.multiply` function performs *element-wise multiplication* and multiplies each element of the first array by the similar element in the second. If you use the `*` operator with one-dimensional arrays, it will also perform element-wise multiplication. But if you use `*` with arrays with more than one dimension, NumPy will perform *matrix-matrix multiplication*, which multiplies the rows of the first matrix by the columns of the second."
   ]
  },
  {
   "cell_type": "code",
   "execution_count": 10,
   "metadata": {},
   "outputs": [
    {
     "data": {
      "text/plain": [
       "array([[ 5, 14],\n",
       "       [27, 44]])"
      ]
     },
     "execution_count": 10,
     "metadata": {},
     "output_type": "execute_result"
    }
   ],
   "source": [
    "# Matrix arithmetic\n",
    "import numpy as np\n",
    "a = np.array([[1, 2], [3, 4]])\n",
    "b = np.array([[5, 7], [9, 11]])\n",
    "a - b"
   ]
  },
  {
   "cell_type": "markdown",
   "metadata": {},
   "source": [
    "## Statistics\n",
    "\n",
    "Obtaining statistics is a critical operation in data science, and NumPy provides several functions for this. Here are the three most fundamental functions:\n",
    "\n",
    "`mean(array)` - Compute the mean of the array  \n",
    "`std(array)` - Standard deviation  \n",
    "`var(array)` - Variance\n",
    "\n",
    "For one-dimensional arrays, these functions return single values. For multi-dimensional arrays, they return one value for each row/column, depending on the optional `axis` parameter."
   ]
  },
  {
   "cell_type": "code",
   "execution_count": 4,
   "metadata": {},
   "outputs": [
    {
     "data": {
      "text/plain": [
       "array([ 4., 10., 18.])"
      ]
     },
     "execution_count": 4,
     "metadata": {},
     "output_type": "execute_result"
    }
   ],
   "source": [
    "import numpy as np\n",
    "a_var = np.array([1., 2., 3.])\n",
    "b = np.array([4., 5., 6.])\n",
    "np.multiply(a, b)"
   ]
  },
  {
   "cell_type": "markdown",
   "metadata": {},
   "source": [
    "NumPy's functions can also identify relationships between variables. Three important functions are as follows:\n",
    "\n",
    "`correlate(array1, array2)` - Compute the correlation of two arrays  \n",
    "`cov(array)` - Compute the covariance of variables in an array  \n",
    "`corrcoef(array)` - Compute the correlation coefficient of elements in an array  "
   ]
  },
  {
   "cell_type": "markdown",
   "metadata": {},
   "source": [
    "## Generating Random Values\n",
    "\n",
    "When you're testing an application, it can be very helpful to generate random values. "
   ]
  },
  {
   "cell_type": "code",
   "execution_count": null,
   "metadata": {},
   "outputs": [],
   "source": []
  },
  {
   "cell_type": "markdown",
   "metadata": {},
   "source": [
    "## Splitting and Stacking\n",
    "\n",
    "Many applications require "
   ]
  }
 ],
 "metadata": {
  "kernelspec": {
   "display_name": "Python 3",
   "language": "python",
   "name": "python3"
  },
  "language_info": {
   "codemirror_mode": {
    "name": "ipython",
    "version": 3
   },
   "file_extension": ".py",
   "mimetype": "text/x-python",
   "name": "python",
   "nbconvert_exporter": "python",
   "pygments_lexer": "ipython3",
   "version": "3.6.0"
  }
 },
 "nbformat": 4,
 "nbformat_minor": 2
}
